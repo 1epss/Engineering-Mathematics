{
 "cells": [
  {
   "cell_type": "code",
   "execution_count": 2,
   "metadata": {},
   "outputs": [],
   "source": [
    "import math\n",
    "import numpy as np\n",
    "import matplotlib as mpl\n",
    "import matplotlib.pyplot as plt\n",
    "import sympy\n",
    "import random"
   ]
  },
  {
   "attachments": {},
   "cell_type": "markdown",
   "metadata": {},
   "source": [
    "# 미분방정식  \n",
    "한 개 또는 그 이상의 종속변수를 한 개 또는 그 이상의 독립 변수에 대해 미분한 도함수들을 포함하는 방정식\n",
    "\n",
    "예) $y' = cos\\,x$  \n",
    "$y'' + 4y = 0$  \n",
    "$x^2y'''y' + 2 e^xy'' = (x^2+2)y^2$ "
   ]
  },
  {
   "attachments": {},
   "cell_type": "markdown",
   "metadata": {},
   "source": [
    "### 상미분 방정식  \n",
    "한 개 또는 그 이상의 종속변수를 단 하나의 독립변수에 대해 미분한 도함수들만을 포함하는 방정식\n",
    "\n",
    "### 편미분 방정식  \n",
    "한 개 또는 그 이상의 종속변수에 대해 두 개 이상의 독립변수에 대한 편도함수를 포함하는 방정식\n",
    "\n",
    "### 선형 미분방정식  \n",
    "종속변수 y와 그것의 모든 도함수들이 1차 거듭제곱 (y') 이며, y또는 y' 등의 계수함수들이 독립변수 x만의 함수인 방정식\n",
    "\n"
   ]
  },
  {
   "attachments": {},
   "cell_type": "markdown",
   "metadata": {},
   "source": [
    "---"
   ]
  },
  {
   "attachments": {},
   "cell_type": "markdown",
   "metadata": {},
   "source": [
    "## 변수분리법\n",
    "\n",
    "$g(y)y' = f(x)$ 이라는 미분방정식이 있을 때,  \n",
    "$y' = \\frac{dx}{dy}$ 이므로, $g(y)\\,\\frac{dx}{dy} = f(x)$ 으로 표현할 수 있으며,  \n",
    "다시 $g(y)\\,dy = f(x)\\,dx$ 로 변수 x를 우변, y를 좌변으로 분리시킬 수 있는 방법\n",
    "\n",
    "### 일반해  \n",
    "양변을 적분합시다.. $\\int g(y)\\,dy = \\int f(x)\\,dx$"
   ]
  },
  {
   "cell_type": "code",
   "execution_count": 30,
   "metadata": {},
   "outputs": [
    {
     "data": {
      "text/plain": [
       "[Eq(y(x), -sqrt(C1 - 4*x**2)/3), Eq(y(x), sqrt(C1 - 4*x**2)/3)]"
      ]
     },
     "execution_count": 30,
     "metadata": {},
     "output_type": "execute_result"
    }
   ],
   "source": [
    "# 9yy' + 4x = 0 의 일반해\n",
    "x = sympy.symbols('x')\n",
    "y = sympy.symbols('y', cls=sympy.Function)\n",
    "sympy.dsolve(sympy.Eq(9 * y(x) * y(x).diff(x) + 4*x, 0))\n"
   ]
  },
  {
   "cell_type": "code",
   "execution_count": 29,
   "metadata": {},
   "outputs": [
    {
     "data": {
      "text/latex": [
       "$\\displaystyle y{\\left(x \\right)} = C_{1} e^{3 x}$"
      ],
      "text/plain": [
       "Eq(y(x), C1*exp(3*x))"
      ]
     },
     "execution_count": 29,
     "metadata": {},
     "output_type": "execute_result"
    }
   ],
   "source": [
    "# y' = 3y 의 일반해\n",
    "x = sympy.symbols('x')\n",
    "y = sympy.symbols('y', cls=sympy.Function)\n",
    "sympy.dsolve(sympy.Eq(y(x).diff(x), 3*y(x)))"
   ]
  },
  {
   "attachments": {},
   "cell_type": "markdown",
   "metadata": {},
   "source": [
    "### 초기조건을 만족하는 특수해 "
   ]
  },
  {
   "cell_type": "code",
   "execution_count": 28,
   "metadata": {},
   "outputs": [
    {
     "data": {
      "text/latex": [
       "$\\displaystyle y{\\left(x \\right)} = \\frac{1}{x}$"
      ],
      "text/plain": [
       "Eq(y(x), 1/x)"
      ]
     },
     "execution_count": 28,
     "metadata": {},
     "output_type": "execute_result"
    }
   ],
   "source": [
    "# y' = -y/x, y(1) = 1\n",
    "x = sympy.symbols('x')\n",
    "y = sympy.symbols('y', cls=sympy.Function)\n",
    "sympy.dsolve(sympy.Eq(y(x).diff(x), - y(x) / x), ics={y(1):1})\n"
   ]
  },
  {
   "cell_type": "code",
   "execution_count": 27,
   "metadata": {},
   "outputs": [
    {
     "data": {
      "text/latex": [
       "$\\displaystyle y{\\left(x \\right)} = e^{- x^{2}}$"
      ],
      "text/plain": [
       "Eq(y(x), exp(-x**2))"
      ]
     },
     "execution_count": 27,
     "metadata": {},
     "output_type": "execute_result"
    }
   ],
   "source": [
    "# y' = -2xy, y(0) = 1\n",
    "x = sympy.symbols('x')\n",
    "y = sympy.symbols('y', cls=sympy.Function)\n",
    "sympy.dsolve(sympy.Eq(y(x).diff(x), -2*y(x)*x), ics={y(0):1})"
   ]
  },
  {
   "cell_type": "code",
   "execution_count": 32,
   "metadata": {},
   "outputs": [
    {
     "data": {
      "text/latex": [
       "$\\displaystyle y{\\left(x \\right)} = \\frac{1}{x^{5} + 1}$"
      ],
      "text/plain": [
       "Eq(y(x), 1/(x**5 + 1))"
      ]
     },
     "execution_count": 32,
     "metadata": {},
     "output_type": "execute_result"
    }
   ],
   "source": [
    "# y'+ 5x^4y^2 = 0, y(0) = 1\n",
    "x = sympy.symbols('x')\n",
    "y = sympy.symbols('y', cls=sympy.Function)\n",
    "sympy.dsolve(sympy.Eq(y(x).diff(x) + 5*x**4*y(x)**2, 0), ics={y(0):1})"
   ]
  },
  {
   "attachments": {},
   "cell_type": "markdown",
   "metadata": {},
   "source": [
    "---"
   ]
  },
  {
   "attachments": {},
   "cell_type": "markdown",
   "metadata": {},
   "source": []
  },
  {
   "cell_type": "code",
   "execution_count": null,
   "metadata": {},
   "outputs": [],
   "source": []
  },
  {
   "cell_type": "code",
   "execution_count": null,
   "metadata": {},
   "outputs": [],
   "source": []
  },
  {
   "cell_type": "code",
   "execution_count": null,
   "metadata": {},
   "outputs": [],
   "source": []
  },
  {
   "cell_type": "code",
   "execution_count": null,
   "metadata": {},
   "outputs": [],
   "source": []
  }
 ],
 "metadata": {
  "kernelspec": {
   "display_name": "base",
   "language": "python",
   "name": "python3"
  },
  "language_info": {
   "codemirror_mode": {
    "name": "ipython",
    "version": 3
   },
   "file_extension": ".py",
   "mimetype": "text/x-python",
   "name": "python",
   "nbconvert_exporter": "python",
   "pygments_lexer": "ipython3",
   "version": "3.10.11"
  },
  "orig_nbformat": 4
 },
 "nbformat": 4,
 "nbformat_minor": 2
}
