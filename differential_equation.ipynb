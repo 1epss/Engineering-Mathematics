{
 "cells": [
  {
   "cell_type": "code",
   "execution_count": 1,
   "metadata": {},
   "outputs": [],
   "source": [
    "import math\n",
    "import numpy as np\n",
    "import matplotlib as mpl\n",
    "import matplotlib.pyplot as plt\n",
    "import sympy\n",
    "import random"
   ]
  },
  {
   "attachments": {},
   "cell_type": "markdown",
   "metadata": {},
   "source": [
    "# 미분방정식  \n",
    "한 개 또는 그 이상의 종속변수를 한 개 또는 그 이상의 독립 변수에 대해 미분한 도함수들을 포함하는 방정식\n",
    "\n",
    "예) $y' = cos\\,x$  \n",
    "$y'' + 4y = 0$  \n",
    "$x^2y'''y' + 2 e^xy'' = (x^2+2)y^2$ "
   ]
  },
  {
   "attachments": {},
   "cell_type": "markdown",
   "metadata": {},
   "source": [
    "### 상미분 방정식  \n",
    "한 개 또는 그 이상의 종속변수를 단 하나의 독립변수에 대해 미분한 도함수들만을 포함하는 방정식\n",
    "\n",
    "### 편미분 방정식  \n",
    "한 개 또는 그 이상의 종속변수에 대해 두 개 이상의 독립변수에 대한 편도함수를 포함하는 방정식\n",
    "\n",
    "### 선형 미분방정식  \n",
    "종속변수 y와 그것의 모든 도함수들이 1차 거듭제곱 (y') 이며, y또는 y' 등의 계수함수들이 독립변수 x만의 함수인 방정식\n",
    "\n"
   ]
  },
  {
   "attachments": {},
   "cell_type": "markdown",
   "metadata": {},
   "source": [
    "---"
   ]
  },
  {
   "attachments": {},
   "cell_type": "markdown",
   "metadata": {},
   "source": [
    "## 변수분리법\n",
    "\n",
    "$g(y)y' = f(x)$ 이라는 미분방정식이 있을 때,  \n",
    "$y' = \\frac{dx}{dy}$ 이므로, $g(y)\\,\\frac{dx}{dy} = f(x)$ 으로 표현할 수 있으며,  \n",
    "다시 $g(y)\\,dy = f(x)\\,dx$ 로 변수 x를 우변, y를 좌변으로 분리시킬 수 있는 방법\n",
    "\n",
    "### 일반해  \n",
    "양변을 적분합시다.. $\\int g(y)\\,dy = \\int f(x)\\,dx$"
   ]
  },
  {
   "cell_type": "code",
   "execution_count": 2,
   "metadata": {},
   "outputs": [
    {
     "data": {
      "text/plain": [
       "[Eq(y(x), -sqrt(C1 - 4*x**2)/3), Eq(y(x), sqrt(C1 - 4*x**2)/3)]"
      ]
     },
     "execution_count": 2,
     "metadata": {},
     "output_type": "execute_result"
    }
   ],
   "source": [
    "# 9yy' + 4x = 0 의 일반해\n",
    "x = sympy.symbols('x')\n",
    "y = sympy.symbols('y', cls=sympy.Function)\n",
    "sympy.dsolve(sympy.Eq(9 * y(x) * y(x).diff(x) + 4*x, 0))\n"
   ]
  },
  {
   "cell_type": "code",
   "execution_count": 3,
   "metadata": {},
   "outputs": [
    {
     "data": {
      "text/latex": [
       "$\\displaystyle y{\\left(x \\right)} = C_{1} e^{3 x}$"
      ],
      "text/plain": [
       "Eq(y(x), C1*exp(3*x))"
      ]
     },
     "execution_count": 3,
     "metadata": {},
     "output_type": "execute_result"
    }
   ],
   "source": [
    "# y' = 3y 의 일반해\n",
    "x = sympy.symbols('x')\n",
    "y = sympy.symbols('y', cls=sympy.Function)\n",
    "sympy.dsolve(sympy.Eq(y(x).diff(x), 3*y(x)))"
   ]
  },
  {
   "attachments": {},
   "cell_type": "markdown",
   "metadata": {},
   "source": [
    "### 초기조건을 만족하는 특수해 "
   ]
  },
  {
   "cell_type": "code",
   "execution_count": 4,
   "metadata": {},
   "outputs": [
    {
     "data": {
      "text/latex": [
       "$\\displaystyle y{\\left(x \\right)} = \\frac{1}{x}$"
      ],
      "text/plain": [
       "Eq(y(x), 1/x)"
      ]
     },
     "execution_count": 4,
     "metadata": {},
     "output_type": "execute_result"
    }
   ],
   "source": [
    "# y' = -y/x, y(1) = 1\n",
    "x = sympy.symbols('x')\n",
    "y = sympy.symbols('y', cls=sympy.Function)\n",
    "sympy.dsolve(sympy.Eq(y(x).diff(x), - y(x) / x), ics={y(1):1})\n"
   ]
  },
  {
   "cell_type": "code",
   "execution_count": 5,
   "metadata": {},
   "outputs": [
    {
     "data": {
      "text/latex": [
       "$\\displaystyle y{\\left(x \\right)} = e^{- x^{2}}$"
      ],
      "text/plain": [
       "Eq(y(x), exp(-x**2))"
      ]
     },
     "execution_count": 5,
     "metadata": {},
     "output_type": "execute_result"
    }
   ],
   "source": [
    "# y' = -2xy, y(0) = 1\n",
    "x = sympy.symbols('x')\n",
    "y = sympy.symbols('y', cls=sympy.Function)\n",
    "sympy.dsolve(sympy.Eq(y(x).diff(x), -2*y(x)*x), ics={y(0):1})"
   ]
  },
  {
   "cell_type": "code",
   "execution_count": 6,
   "metadata": {},
   "outputs": [
    {
     "data": {
      "text/latex": [
       "$\\displaystyle y{\\left(x \\right)} = \\frac{1}{x^{5} + 1}$"
      ],
      "text/plain": [
       "Eq(y(x), 1/(x**5 + 1))"
      ]
     },
     "execution_count": 6,
     "metadata": {},
     "output_type": "execute_result"
    }
   ],
   "source": [
    "# y'+ 5x^4y^2 = 0, y(0) = 1\n",
    "x = sympy.symbols('x')\n",
    "y = sympy.symbols('y', cls=sympy.Function)\n",
    "sympy.dsolve(sympy.Eq(y(x).diff(x) + 5*x**4*y(x)**2, 0), ics={y(0):1})"
   ]
  },
  {
   "attachments": {},
   "cell_type": "markdown",
   "metadata": {},
   "source": [
    "---"
   ]
  },
  {
   "attachments": {},
   "cell_type": "markdown",
   "metadata": {},
   "source": [
    "## 전미분  \n",
    "이변수함수 $z = f(x,y)$ 에 대한 전미분 $dz$  \n",
    "### $dz = \\frac{\\partial z}{\\partial x} dx + \\frac{\\partial z}{\\partial y} dy$  \n",
    "x와 y를 동시에 변화시켰을 때 나타나는 z의 변화, 각각의 변수에 대한 편미분을 모두 구한뒤 더함"
   ]
  },
  {
   "attachments": {},
   "cell_type": "markdown",
   "metadata": {},
   "source": [
    "## 완전미분방정식  \n",
    "어떤 미분방정식 $M(x,y) dx + N(x,y) dy = 0$ 의 좌변이 어떤 이변수 함수 $u(x,y)의 전미분 du(x,y)와 같을 때  \n",
    "### $du(x,y) = \\frac{\\partial u}{\\partial x} dx + \\frac{\\partial u}{\\partial y} dy = M(x,y) dx + N(x,y) dy $  \n"
   ]
  },
  {
   "attachments": {},
   "cell_type": "markdown",
   "metadata": {},
   "source": [
    "## 완전미분방정식의 판정 조건  \n",
    "$M(x,y) dx + N(x,y) dy = 0$ 이 완전미분방정식이기 위한 필요충분조건은  \n",
    "## $ \\frac{\\partial M}{\\partial y} = \\frac{\\partial N}{\\partial y} $  \n"
   ]
  },
  {
   "cell_type": "code",
   "execution_count": 7,
   "metadata": {},
   "outputs": [
    {
     "name": "stdout",
     "output_type": "stream",
     "text": [
      "6*x*y, 6*x*y 완전미분방정식 O\n",
      "x**4/4 + 3*x**2*y**2/2 + y**4/4\n",
      "x**4/4 + 3*x**2*y**2/2 + y**4/4\n"
     ]
    }
   ],
   "source": [
    "# (x^3 + 3xy^2) dx + (3x^2y + y^3) dy = 0\n",
    "\n",
    "# 완전미분방정식 여부 check\n",
    "x, y = sympy.symbols('x y')\n",
    "M = x**3 + 3*x*y**2\n",
    "N = 3*x**2*y + y**3\n",
    "df_y = sympy.diff(M,y) \n",
    "df_x = sympy.diff(N,x)\n",
    "if df_y == df_x :\n",
    "    print('{}, {}'.format(df_y, df_x), '완전미분방정식 O')\n",
    "\n",
    "# u(x,y) = integrate(N)dy + l(x)를 이용한 풀이\n",
    "N_integrate = sympy.integrate(3*x**2*y + y**3, y)\n",
    "N_inte_diff = sympy.diff(N_integrate, x)\n",
    "# 이 과정의 결과가 M과 같아야하고, 그 차이에서 l'(x)를 구할 수 있음\n",
    "l_diff = M - N_inte_diff\n",
    "l = sympy.integrate(l_diff, x)\n",
    "u = N_integrate + l\n",
    "print(u)\n",
    "\n",
    "# u(x,y) = integrate(M)dy + k(y)를 이용한 풀이\n",
    "M_integrate = sympy.integrate(x**3 + 3*x*y**2, x)\n",
    "M_inte_diff = sympy.diff(M_integrate, y)\n",
    "# 이 과정의 결과가 N과 같아야하고, 그 차이에서 k'(y)를 구할 수 있음\n",
    "k_diff = N - M_inte_diff\n",
    "k = sympy.integrate(k_diff, y)\n",
    "u2 = M_integrate + k\n",
    "print(u2)"
   ]
  },
  {
   "cell_type": "code",
   "execution_count": 8,
   "metadata": {},
   "outputs": [
    {
     "data": {
      "text/plain": [
       "[Eq(y(x), -sqrt(-3*x**2 - sqrt(C1 + 8*x**4))),\n",
       " Eq(y(x), sqrt(-3*x**2 - sqrt(C1 + 8*x**4))),\n",
       " Eq(y(x), -sqrt(-3*x**2 + sqrt(C1 + 8*x**4))),\n",
       " Eq(y(x), sqrt(-3*x**2 + sqrt(C1 + 8*x**4)))]"
      ]
     },
     "execution_count": 8,
     "metadata": {},
     "output_type": "execute_result"
    }
   ],
   "source": [
    "# sympy 모듈을 이용한 간단한 풀이 (?)\n",
    "\n",
    "x = sympy.symbols('x')\n",
    "y = sympy.symbols('y', cls=sympy.Function)\n",
    "sympy.dsolve(sympy.Eq(x**3 + 3*x*y(x)**2 + ((3*x**2*y(x) + y(x)**3) * y(x).diff(x)), 0), y(x))"
   ]
  },
  {
   "attachments": {},
   "cell_type": "markdown",
   "metadata": {},
   "source": [
    "## 적분인자  \n",
    "주어진 미분방정식이 완전미분방정식이 아닌 경우?  \n",
    "$-ydx + xdy=0$  \n",
    "$ \\frac{\\partial M}{\\partial y} = -1 , \\frac{\\partial N}{\\partial y} = 1$, 이 때 $\\frac{1}{x^2}$를 곱하면..\n",
    "\n",
    "### $ \\frac{\\partial M}{\\partial y} = \\frac{-1}{x^2} , \\frac{\\partial N}{\\partial y} = \\frac{-1}{x^2}$\n"
   ]
  },
  {
   "attachments": {},
   "cell_type": "markdown",
   "metadata": {},
   "source": [
    "---"
   ]
  },
  {
   "attachments": {},
   "cell_type": "markdown",
   "metadata": {},
   "source": [
    "## 선형 미분 방정식  \n"
   ]
  },
  {
   "cell_type": "code",
   "execution_count": 14,
   "metadata": {},
   "outputs": [
    {
     "data": {
      "text/latex": [
       "$\\displaystyle y{\\left(x \\right)} = \\left(C_{1} e^{x} - 1\\right) e^{x}$"
      ],
      "text/plain": [
       "Eq(y(x), (C1*exp(x) - 1)*exp(x))"
      ]
     },
     "execution_count": 14,
     "metadata": {},
     "output_type": "execute_result"
    }
   ],
   "source": [
    "# dy/dx - 2y = e^x의 일반해\n",
    "\n",
    "x = sympy.symbols('x')\n",
    "y = sympy.symbols('y', cls = sympy.Function)\n",
    "\n",
    "sympy.dsolve(sympy.Eq(y(x).diff(x) -2*y(x), sympy.exp(x)), y(x))"
   ]
  },
  {
   "cell_type": "code",
   "execution_count": 16,
   "metadata": {},
   "outputs": [
    {
     "data": {
      "text/latex": [
       "$\\displaystyle y{\\left(x \\right)} = \\left(C_{1} + e^{x}\\right) e^{x}$"
      ],
      "text/plain": [
       "Eq(y(x), (C1 + exp(x))*exp(x))"
      ]
     },
     "execution_count": 16,
     "metadata": {},
     "output_type": "execute_result"
    }
   ],
   "source": [
    "# y'-y = e^2x (?)\n",
    "\n",
    "x = sympy.symbols('x')\n",
    "y = sympy.symbols('y', cls = sympy.Function)\n",
    "\n",
    "sympy.dsolve(sympy.Eq(y(x).diff(x) - y(x), sympy.exp(x)**2), y(x))"
   ]
  },
  {
   "attachments": {},
   "cell_type": "markdown",
   "metadata": {},
   "source": [
    "---"
   ]
  },
  {
   "attachments": {},
   "cell_type": "markdown",
   "metadata": {},
   "source": [
    "## 베르누이 미분방정식  \n",
    "비선형을 선형으로 바꾸는 방정식  \n",
    "\n",
    "$y' + p(x) y = g(x) y^a$"
   ]
  },
  {
   "cell_type": "code",
   "execution_count": null,
   "metadata": {},
   "outputs": [],
   "source": []
  },
  {
   "cell_type": "code",
   "execution_count": null,
   "metadata": {},
   "outputs": [],
   "source": []
  },
  {
   "cell_type": "code",
   "execution_count": null,
   "metadata": {},
   "outputs": [],
   "source": []
  }
 ],
 "metadata": {
  "kernelspec": {
   "display_name": "base",
   "language": "python",
   "name": "python3"
  },
  "language_info": {
   "codemirror_mode": {
    "name": "ipython",
    "version": 3
   },
   "file_extension": ".py",
   "mimetype": "text/x-python",
   "name": "python",
   "nbconvert_exporter": "python",
   "pygments_lexer": "ipython3",
   "version": "3.10.11"
  },
  "orig_nbformat": 4
 },
 "nbformat": 4,
 "nbformat_minor": 2
}
