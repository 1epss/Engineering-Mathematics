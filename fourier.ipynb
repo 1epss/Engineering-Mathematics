{
 "cells": [
  {
   "cell_type": "code",
   "execution_count": 2,
   "metadata": {},
   "outputs": [],
   "source": [
    "import math\n",
    "import numpy as np\n",
    "import matplotlib as mpl\n",
    "import matplotlib.pyplot as plt\n",
    "import sympy\n",
    "import random"
   ]
  },
  {
   "attachments": {},
   "cell_type": "markdown",
   "metadata": {},
   "source": [
    "## 주기함수\n",
    "\n",
    "$f(x+p) = f(x)$\n",
    "\n",
    "x에 대하여 -p 만큼 수평이동 하였을 때 원래 함수의 그래프와 일치하는 함수, 주기는 $p$"
   ]
  },
  {
   "cell_type": "code",
   "execution_count": 3,
   "metadata": {},
   "outputs": [
    {
     "data": {
      "image/png": "[encoded data removed]",
      "text/plain": [
       "<Figure size 640x480 with 1 Axes>"
      ]
     },
     "metadata": {},
     "output_type": "display_data"
    }
   ],
   "source": [
    "# 사인함수의 주기를 그래프로\n",
    "\n",
    "def move_sympyplot_to_axes(p, ax):\n",
    "    backend = p.backend(p)\n",
    "    backend.ax = ax\n",
    "    backend._process_series(backend.parent._series, ax, backend.parent)\n",
    "    backend.ax.spines['right'].set_color('none')\n",
    "    backend.ax.spines['bottom'].set_position('zero')\n",
    "    backend.ax.spines['top'].set_color('none')\n",
    "    plt.close(backend.fig)\n",
    "\n",
    "\n",
    "x = sympy.Symbol('x')\n",
    "f = sympy.sin(x)\n",
    "p1 = sympy.plot(f, xlim=(4*-sympy.pi, 4*sympy.pi), line_color='blue', show=False, legend=True)\n",
    "\n",
    "\n",
    "fig, ax = plt.subplots(ncols=1)\n",
    "move_sympyplot_to_axes(p1, ax)\n",
    "plt.xticks([2*-np.pi,2*np.pi],['$-2π$','2π'])\n",
    "plt.yticks([1,-1],[1,-1])\n",
    "\n",
    "plt.show()\n",
    "\n",
    "\n",
    "# 주기는 2pi"
   ]
  },
  {
   "attachments": {},
   "cell_type": "markdown",
   "metadata": {},
   "source": [
    "---"
   ]
  },
  {
   "attachments": {},
   "cell_type": "markdown",
   "metadata": {},
   "source": [
    "# 푸리에 급수\n",
    "\n",
    "임의의 주기를 갖는 어떤 주기함수 f(x)는 삼각급수로 표현 가능함\n",
    "\n",
    "\n",
    "$f(x) = a_0 + \\sum\\limits_{n=1} ^{\\infty} (a_n\\,cos\\,nx + b_n\\,sin\\,nx)$ "
   ]
  },
  {
   "attachments": {},
   "cell_type": "markdown",
   "metadata": {},
   "source": [
    "- 푸리에 계수 $a_0$ 구하기\n",
    "\n",
    "- $a_n$ , $b_n$ 구하기"
   ]
  },
  {
   "attachments": {},
   "cell_type": "markdown",
   "metadata": {},
   "source": [
    "> 예제. 다음 함수의 푸리에 급수를 구하라\n",
    "\n",
    "$f(x) = \\begin{cases}\n",
    "    -1\\,(-\\pi<x<0)\\\\\n",
    "    1\\quad(0<x<\\pi)\\\\\n",
    "  \\end{cases}$,\n",
    "  \n",
    "$f(x+2\\pi) = f(x)$"
   ]
  },
  {
   "cell_type": "code",
   "execution_count": 4,
   "metadata": {},
   "outputs": [
    {
     "data": {
      "text/latex": [
       "$\\displaystyle 0$"
      ],
      "text/plain": [
       "0"
      ]
     },
     "execution_count": 4,
     "metadata": {},
     "output_type": "execute_result"
    }
   ],
   "source": [
    "# a0 구하기\n",
    "\n",
    "f = -1\n",
    "g = 1\n",
    "\n",
    "a0 = 1/(2*sympy.pi) * ((sympy.integrate(f,(x,-sympy.pi,0))) + (sympy.integrate(g,(x,0,sympy.pi))))\n",
    "a0"
   ]
  },
  {
   "cell_type": "code",
   "execution_count": 5,
   "metadata": {},
   "outputs": [
    {
     "data": {
      "text/latex": [
       "$\\displaystyle 0$"
      ],
      "text/plain": [
       "0"
      ]
     },
     "execution_count": 5,
     "metadata": {},
     "output_type": "execute_result"
    }
   ],
   "source": [
    "# an 구하기\n",
    "# n은 모든 자연수에 해당하므로, 1~1000까지의 임의의 자연수를 추첨하였음 (어차피 뭘 넣어도 기함수라 0 나옴)\n",
    "\n",
    "f = -1\n",
    "g = 1\n",
    "n = random.randint(1, 1000)\n",
    "\n",
    "an = (1/(sympy.pi) * (sympy.integrate(f * sympy.cos(n*x),(x,-sympy.pi,0)))) + (1/(sympy.pi) * (sympy.integrate(g * sympy.cos(n*x),(x,0,sympy.pi))))\n",
    "an"
   ]
  },
  {
   "cell_type": "code",
   "execution_count": 6,
   "metadata": {},
   "outputs": [
    {
     "name": "stdout",
     "output_type": "stream",
     "text": [
      "[4*sin(x)/pi, 4*sin(3*x)/(3*pi), 4*sin(5*x)/(5*pi)]\n"
     ]
    }
   ],
   "source": [
    "# bn과 푸리에 급수의 1-5 값 구하기\n",
    "# n은 모든 자연수에 해당하고, 우함수이기 때문에 유효한 값이 나오기 때문에, n을 1,2,3,4,5까지 대입시킴\n",
    "\n",
    "f = -1\n",
    "g = 1\n",
    "sum = []\n",
    "for i in range(1,6):\n",
    "    n = i\n",
    "\n",
    "    bn = (1/(sympy.pi) * (sympy.integrate(f * sympy.sin(n*x),(x,-sympy.pi,0)))) + (1/(sympy.pi) * (sympy.integrate(g * sympy.sin(n*x),(x,0,sympy.pi))))\n",
    "    # 이전 과정에서 a0과 an은 0이라 소거되어지고, 남은 bn sin nx을 계산해주면..\n",
    "    tayler = bn * sympy.sin(n*x)\n",
    "    if tayler != 0:\n",
    "        sum.append(tayler)\n",
    "    else:\n",
    "        pass\n",
    "\n",
    "print(sum)\n"
   ]
  },
  {
   "cell_type": "code",
   "execution_count": 7,
   "metadata": {},
   "outputs": [
    {
     "data": {
      "text/latex": [
       "$\\displaystyle \\frac{4 \\sin{\\left(x \\right)}}{\\pi} + \\frac{4 \\sin{\\left(3 x \\right)}}{3 \\pi} + \\frac{4 \\sin{\\left(5 x \\right)}}{5 \\pi} + \\ldots$"
      ],
      "text/plain": [
       "FourierSeries(2*Heaviside(x) - 1, (x, -pi, pi), (0, SeqFormula(0, (_n, 1, oo)), SeqFormula(-(2*Piecewise((0, Eq(_n, 0)), (-1/_n, True)) - 2*Piecewise((0, Eq(_n, 0)), (-cos(_n*pi)/_n, True)))*sin(_n*x)/pi, (_n, 1, oo))))"
      ]
     },
     "execution_count": 7,
     "metadata": {},
     "output_type": "execute_result"
    }
   ],
   "source": [
    "# 간단하게 Sympy.fourier_series 을 이용하여 구하기\n",
    "\n",
    "import sympy\n",
    "\n",
    "x = sympy.symbols('x')\n",
    "sympy.fourier_series(2*sympy.Heaviside(x)-1, (x,-sympy.pi,sympy.pi)).simplify()"
   ]
  },
  {
   "cell_type": "code",
   "execution_count": null,
   "metadata": {},
   "outputs": [],
   "source": [
    "00"
   ]
  },
  {
   "cell_type": "code",
   "execution_count": null,
   "metadata": {},
   "outputs": [],
   "source": []
  },
  {
   "cell_type": "code",
   "execution_count": null,
   "metadata": {},
   "outputs": [],
   "source": []
  },
  {
   "cell_type": "code",
   "execution_count": null,
   "metadata": {},
   "outputs": [],
   "source": []
  },
  {
   "cell_type": "code",
   "execution_count": null,
   "metadata": {},
   "outputs": [],
   "source": []
  },
  {
   "cell_type": "code",
   "execution_count": null,
   "metadata": {},
   "outputs": [],
   "source": []
  },
  {
   "cell_type": "code",
   "execution_count": null,
   "metadata": {},
   "outputs": [],
   "source": []
  },
  {
   "cell_type": "code",
   "execution_count": null,
   "metadata": {},
   "outputs": [],
   "source": []
  },
  {
   "cell_type": "code",
   "execution_count": null,
   "metadata": {},
   "outputs": [],
   "source": []
  },
  {
   "cell_type": "code",
   "execution_count": null,
   "metadata": {},
   "outputs": [],
   "source": []
  }
 ],
 "metadata": {
  "kernelspec": {
   "display_name": "base",
   "language": "python",
   "name": "python3"
  },
  "language_info": {
   "codemirror_mode": {
    "name": "ipython",
    "version": 3
   },
   "file_extension": ".py",
   "mimetype": "text/x-python",
   "name": "python",
   "nbconvert_exporter": "python",
   "pygments_lexer": "ipython3",
   "version": "3.10.11"
  },
  "orig_nbformat": 4
 },
 "nbformat": 4,
 "nbformat_minor": 2
}
